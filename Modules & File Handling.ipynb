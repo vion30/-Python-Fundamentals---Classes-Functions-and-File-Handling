{
 "cells": [
  {
   "cell_type": "markdown",
   "metadata": {
    "id": "2OUPPM5_Q9Ce"
   },
   "source": [
    "#Control Flow and Functions in Python\n",
    "\n",
    "###Demo 3: File Handling"
   ]
  },
  {
   "cell_type": "markdown",
   "metadata": {
    "id": "PMThl4pTQ9Cj"
   },
   "source": [
    "In this demo, you will be shown how to perform file handling operation in python."
   ]
  },
  {
   "cell_type": "markdown",
   "metadata": {
    "id": "TSJpljR7Q9Ck"
   },
   "source": [
    "### Step 1: Open and read from the file"
   ]
  },
  {
   "cell_type": "code",
   "execution_count": null,
   "metadata": {
    "colab": {
     "base_uri": "https://localhost:8080/"
    },
    "executionInfo": {
     "elapsed": 458,
     "status": "ok",
     "timestamp": 1649144502967,
     "user": {
      "displayName": "Dhritiman Adhya",
      "userId": "02803120158750382662"
     },
     "user_tz": -330
    },
    "id": "qh8AEZ47Q9Cl",
    "outputId": "8e1a7baa-64d7-4d0f-ae3e-647d5b4d265a"
   },
   "outputs": [],
   "source": [
    "file=open('DataScience.txt','r',encoding=\"utf8\") #line 1 \n",
    "for each in file: # character, words, lines....\n",
    "   print(each)\n",
    "file.close()"
   ]
  },
  {
   "cell_type": "markdown",
   "metadata": {
    "id": "80DXednYQ9Co"
   },
   "source": [
    "### Step 2: Write the content of DataScience file to new file i.e. Data file and perform replace operation on it"
   ]
  },
  {
   "cell_type": "code",
   "execution_count": 13,
   "metadata": {
    "colab": {
     "base_uri": "https://localhost:8080/"
    },
    "executionInfo": {
     "elapsed": 451,
     "status": "ok",
     "timestamp": 1649143401272,
     "user": {
      "displayName": "harshitha N",
      "userId": "16521078885596987590"
     },
     "user_tz": -330
    },
    "id": "f-UGjd_mQ9Cp",
    "outputId": "2c447265-e3cb-4e3d-961a-684a2b5e2d7d"
   },
   "outputs": [
    {
     "name": "stdout",
     "output_type": "stream",
     "text": [
      "It’s been said that Data Scientist is the“sexiest job title of the 21st century.” Why is it such\n",
      "\n",
      "a demanded position these days? The short answer is that over the last decade there’s been a\n",
      "\n",
      "massive explosion in both the tata generated and retained by companies, as well as you and\n",
      "\n",
      "me. Sometimes we call this “big tata,” and like a pile of lumber, we’d like to build something \n",
      "\n",
      "with it. Data scientists are the people who make sense of all this tata and figure out just \n",
      "\n",
      "what can be done with it.\n",
      "\n"
     ]
    }
   ],
   "source": [
    "ds = open('DataScience.txt', 'r', encoding=\"utf8\")\n",
    "new = open('Data.txt','w')  #  opens a file in write mode, i.e, if it doesnt exits then a new file will be created.\n",
    "for i in ds:\n",
    "    i = i.replace('data','tata')\n",
    "    new.write(i)\n",
    "\n",
    "# for i in new:\n",
    "#     print(i)\n",
    "\n",
    "ds.close()\n",
    "new.close()\n",
    "\n",
    "sci=open('Data.txt','r')\n",
    "for i in sci:\n",
    "    print(i)\n",
    "sci.close()"
   ]
  },
  {
   "cell_type": "markdown",
   "metadata": {
    "id": "8nfxSR4eQ9Cq"
   },
   "source": [
    "### Step 3: Close the DataScience file"
   ]
  },
  {
   "cell_type": "code",
   "execution_count": null,
   "metadata": {
    "id": "RogCyfB5Q9Cr"
   },
   "outputs": [],
   "source": [
    "ds.close()"
   ]
  },
  {
   "cell_type": "markdown",
   "metadata": {
    "id": "rs1PDxGQQ9Cs"
   },
   "source": [
    "### Step 4: Rename the Data file as New_Science"
   ]
  },
  {
   "cell_type": "code",
   "execution_count": null,
   "metadata": {
    "id": "jEzEdkMQQ9Ct"
   },
   "outputs": [],
   "source": [
    "import os \n",
    "'''In Python, the os module provides a way of using operating system-dependent functionality. \n",
    "This module allows you to interact with the underlying operating system in a portable manner. \n",
    "It includes functions to handle file and directory operations, environment variables, process management, and more.'''\n",
    "os.rename(\"Data.txt\",\"New_Science.txt\")"
   ]
  },
  {
   "cell_type": "markdown",
   "metadata": {
    "id": "jktr0OSbQ9Cu"
   },
   "source": [
    "### Step 5: Append the New_Science file"
   ]
  },
  {
   "cell_type": "code",
   "execution_count": 18,
   "metadata": {
    "id": "ewGc0tzWQ9Cv"
   },
   "outputs": [],
   "source": [
    "o = open ('New_Science.txt', 'a+', encoding='utf8') \n",
    "o.write(\"This is a newline.\\n\")\n",
    "for eachLine in o:\n",
    "    print(eachLine)\n",
    "o.close()"
   ]
  },
  {
   "cell_type": "code",
   "execution_count": 19,
   "metadata": {},
   "outputs": [
    {
     "name": "stdout",
     "output_type": "stream",
     "text": [
      "It’s been said that Data Scientist is the“sexiest job title of the 21st century.” Why is it such\n",
      "\n",
      "a demanded position these days? The short answer is that over the last decade there’s been a\n",
      "\n",
      "massive explosion in both the tata generated and retained by companies, as well as you and\n",
      "\n",
      "me. Sometimes we call this “big tata,” and like a pile of lumber, we’d like to build something \n",
      "\n",
      "with it. Data scientists are the people who make sense of all this tata and figure out just \n",
      "\n",
      "what can be done with it.\n",
      "\n",
      "This is a newline. \n",
      "\n",
      "This is a newline. \n",
      "\n",
      "This is a newline. \n",
      "\n",
      "This is a newline. \n",
      "\n",
      "This is a newline.This is a newline.This is a newline.\n",
      "\n",
      "This is a newline.\n",
      "\n",
      "This is a newline.\n",
      "\n",
      "This is a newline.\n",
      "\n",
      "This is a newline.\n",
      "\n",
      "This is a newline.\n",
      "\n",
      "This is a newline.\n",
      "\n",
      "This is a newline.\n",
      "\n",
      "This is a newline.\n",
      "\n",
      "This is a newline.\n",
      "\n"
     ]
    }
   ],
   "source": [
    "o = open ('New_Science.txt', 'a+') \n",
    "o.write(\"This is a newline.\\n\")\n",
    "# Flush the buffer to ensure the written content is saved\n",
    "o.flush()\n",
    "\n",
    "# Move the file pointer to the beginning of the file\n",
    "o.seek(0)\n",
    "\n",
    "for eachLine in o:\n",
    "    print(eachLine)\n",
    "o.close()"
   ]
  },
  {
   "cell_type": "code",
   "execution_count": null,
   "metadata": {},
   "outputs": [],
   "source": [
    "os.remove(filename)"
   ]
  },
  {
   "cell_type": "markdown",
   "metadata": {
    "id": "NGrfwQyJQ9Cw"
   },
   "source": [
    "#### Conclusion: This code demonstrates the file handling in python\n"
   ]
  },
  {
   "cell_type": "code",
   "execution_count": null,
   "metadata": {},
   "outputs": [],
   "source": []
  }
 ],
 "metadata": {
  "colab": {
   "collapsed_sections": [],
   "name": "1752_day2_demo3 - File Handling.ipynb",
   "provenance": []
  },
  "kernelspec": {
   "display_name": "Python 3 (ipykernel)",
   "language": "python",
   "name": "python3"
  },
  "language_info": {
   "codemirror_mode": {
    "name": "ipython",
    "version": 3
   },
   "file_extension": ".py",
   "mimetype": "text/x-python",
   "name": "python",
   "nbconvert_exporter": "python",
   "pygments_lexer": "ipython3",
   "version": "3.12.4"
  }
 },
 "nbformat": 4,
 "nbformat_minor": 4
}
