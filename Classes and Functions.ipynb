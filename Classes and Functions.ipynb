{
 "cells": [
  {
   "cell_type": "markdown",
   "metadata": {
    "id": "GNbkDw_YQ-UQ"
   },
   "source": [
    "#Control Flow and Functions in Python\n",
    "\n",
    "###Demo 4: Classes and Functions"
   ]
  },
  {
   "cell_type": "markdown",
   "metadata": {
    "id": "3H2WAA2DQ-UX"
   },
   "source": [
    "In this demo, you will be shown how to implement class and functions using a bank account example."
   ]
  },
  {
   "cell_type": "markdown",
   "metadata": {
    "id": "8Ee7KFh7Q-UY"
   },
   "source": [
    "### Step 1: Create class and required functions"
   ]
  },
  {
   "cell_type": "code",
   "execution_count": 8,
   "metadata": {
    "executionInfo": {
     "elapsed": 20,
     "status": "ok",
     "timestamp": 1649140885781,
     "user": {
      "displayName": "harshitha N",
      "userId": "16521078885596987590"
     },
     "user_tz": -330
    },
    "id": "xWIO2eYlQ-UY"
   },
   "outputs": [],
   "source": [
    "class Bank_Account: \n",
    "#The _init_ function run as soon as an object of a class is instantiated\n",
    "    def __init__(self): # Constructor \n",
    "        self.balance = 0  # balance variable \n",
    "        print(\"Hello! Welcome to the Deposit & Withdrawal Machine\") \n",
    "#function to deposit money\n",
    "    def deposit(self): \n",
    "        amount=float(input(\"Enter amount to be Deposited: \")) \n",
    "        self.balance += amount \n",
    "        print(\"\\n Amount Deposited:\",amount) \n",
    "#function to withdraw money\n",
    "    def withdraw(self,amount): \n",
    "        if self.balance>=amount: \n",
    "            self.balance-=amount \n",
    "            print(\"\\n You Withdrew:\", amount) \n",
    "        else: \n",
    "            print(\"\\n Insufficient balance  \") \n",
    "#function to display the amount\n",
    "    def display(self): \n",
    "        print(\"\\n Net Available Balance=\",round(self.balance,2))"
   ]
  },
  {
   "cell_type": "markdown",
   "metadata": {
    "id": "uZppfSbJQ-UZ"
   },
   "source": [
    "### Step 2: Create object of the class and call the functions"
   ]
  },
  {
   "cell_type": "code",
   "execution_count": 10,
   "metadata": {
    "colab": {
     "base_uri": "https://localhost:8080/"
    },
    "executionInfo": {
     "elapsed": 31512,
     "status": "ok",
     "timestamp": 1649140943026,
     "user": {
      "displayName": "harshitha N",
      "userId": "16521078885596987590"
     },
     "user_tz": -330
    },
    "id": "rqIij8LFQ-Ua",
    "outputId": "4a7192d4-c9fa-4656-a5e3-163abc1d9395"
   },
   "outputs": [
    {
     "name": "stdout",
     "output_type": "stream",
     "text": [
      "Hello! Welcome to the Deposit & Withdrawal Machine\n"
     ]
    },
    {
     "name": "stdout",
     "output_type": "stream",
     "text": [
      "Enter amount to be Deposited:  10000\n"
     ]
    },
    {
     "name": "stdout",
     "output_type": "stream",
     "text": [
      "\n",
      " Amount Deposited: 10000.0\n"
     ]
    },
    {
     "name": "stdout",
     "output_type": "stream",
     "text": [
      "Enter amount to withdraw:  500\n"
     ]
    },
    {
     "name": "stdout",
     "output_type": "stream",
     "text": [
      "\n",
      " You Withdrew: 500.0\n",
      "\n",
      " Net Available Balance= 9500.0\n"
     ]
    }
   ],
   "source": [
    "#create object of the class\n",
    "s = Bank_Account() # __init__ is called here for initialization \n",
    "   \n",
    "# Call functions with that class object \n",
    "s.deposit() \n",
    "\n",
    "withdraw_amt=float(input(\"Enter amount to withdraw: \")) \n",
    "#Pass arguement to the withdraw function\n",
    "s.withdraw(withdraw_amt) \n",
    "s.display() \n",
    "\n",
    "# In Python, self is a reference to the current instance of the class. It is the first parameter of instance methods in Python. \n",
    "# When you call a method on an instance of a class, Python automatically passes the instance itself as the first argument to the method."
   ]
  },
  {
   "cell_type": "markdown",
   "metadata": {
    "id": "QJTZegaIQ-Ub"
   },
   "source": [
    "#### Conclusion: This code demonstrates the function and class in python"
   ]
  },
  {
   "cell_type": "code",
   "execution_count": 77,
   "metadata": {},
   "outputs": [],
   "source": [
    "class Bank:\n",
    "    def __init__(self, balance):\n",
    "        self.balance = balance\n",
    "        print(f\"Welcome to our Bank, our initial balance is {balance}\")\n",
    "\n",
    "    def deposit(self):\n",
    "        amount = float(input(\"Enter the amount you want to deposit:\"))\n",
    "        if amount <1:\n",
    "            print(\"Enter Valid amount\")\n",
    "                  \n",
    "        self.balance+=amount\n",
    "        print(\"Amount you deposited: \", amount)\n",
    "        print(\"Your Current balance: \", self.balance)\n",
    "\n",
    "    def withdraw(self, amount):\n",
    "        if self.balance>=amount:\n",
    "            self.balance-=amount\n",
    "            print(\"The amount you have withdrawned is : \",amount)\n",
    "            print(\"Your Current balance: \", self.balance)\n",
    "        else:\n",
    "            print(\"\\n Insufficient Balance\")\n",
    "\n",
    "    def net_balance(self):\n",
    "        print(f\"Your current balance is {self.balance}\")\n",
    "        \n",
    "\n",
    "    "
   ]
  },
  {
   "cell_type": "code",
   "execution_count": 79,
   "metadata": {},
   "outputs": [
    {
     "name": "stdout",
     "output_type": "stream",
     "text": [
      "Welcome to our Bank, our initial balance is 10000\n"
     ]
    },
    {
     "name": "stdout",
     "output_type": "stream",
     "text": [
      "Enter the amount you want to deposit: 5000\n"
     ]
    },
    {
     "name": "stdout",
     "output_type": "stream",
     "text": [
      "Amount you deposited:  5000.0\n",
      "Your Current balance:  15000.0\n"
     ]
    },
    {
     "name": "stdout",
     "output_type": "stream",
     "text": [
      "Enter the amount you wish to withdraw:  700\n"
     ]
    },
    {
     "name": "stdout",
     "output_type": "stream",
     "text": [
      "The amount you have withdrawned is :  700\n",
      "Your Current balance:  14300.0\n",
      "Your current balance is 14300.0\n"
     ]
    }
   ],
   "source": [
    " "
   ]
  },
  {
   "cell_type": "markdown",
   "metadata": {},
   "source": [
    "Notes Of Classes and Objects (Chat GPT)\n",
    "https://chatgpt.com/share/0e8b1db2-558c-4e49-8a22-785eeffcc0e8"
   ]
  },
  {
   "cell_type": "code",
   "execution_count": null,
   "metadata": {},
   "outputs": [],
   "source": [
    "# Write a Python function that uses both a global and a local variable. The function should modify the global variable and return the local variable.\n",
    "\n",
    "gl = 10 \n",
    "\n",
    "def modify_gl():\n",
    "    global gl \n",
    "    gl +=5\n",
    "    lv = 50\n",
    "    return lv, gl\n",
    "\n",
    "modify_gl()\n",
    "# print(gl)"
   ]
  }
 ],
 "metadata": {
  "colab": {
   "collapsed_sections": [],
   "name": "1752_day2_demo4 - Classes and Functions.ipynb",
   "provenance": []
  },
  "kernelspec": {
   "display_name": "Python 3 (ipykernel)",
   "language": "python",
   "name": "python3"
  },
  "language_info": {
   "codemirror_mode": {
    "name": "ipython",
    "version": 3
   },
   "file_extension": ".py",
   "mimetype": "text/x-python",
   "name": "python",
   "nbconvert_exporter": "python",
   "pygments_lexer": "ipython3",
   "version": "3.12.4"
  }
 },
 "nbformat": 4,
 "nbformat_minor": 4
}
